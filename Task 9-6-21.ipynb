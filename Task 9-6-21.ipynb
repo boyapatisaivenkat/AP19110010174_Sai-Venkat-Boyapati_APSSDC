{
 "cells": [
  {
   "cell_type": "markdown",
   "metadata": {},
   "source": [
    "# Take last 3 values of roll number(AP19110010016)\n",
    "if the value starts with \"01\" -> 'CSE Dept'\n",
    "\n",
    "elif value satrts with '11'-> 'IT Dept'\n",
    "\n",
    "elif value starts with \"21\" -> 'ECE Dept'\n",
    "\n",
    "else not an SRM Student"
   ]
  },
  {
   "cell_type": "code",
   "execution_count": 6,
   "metadata": {},
   "outputs": [
    {
     "name": "stdout",
     "output_type": "stream",
     "text": [
      "Enter your roll no: AP19110010016\n",
      "AP19110010016 Belongs to CSE Department\n"
     ]
    }
   ],
   "source": [
    "string = input(\"Enter your roll no: \")\n",
    "string[-3:]\n",
    "\n",
    "if(string[-3:].startswith ('01')):\n",
    "    print(string, 'Belongs to CSE Department')\n",
    "\n",
    "elif(string[-3:].startswith ('11')):\n",
    "    print(string, 'Belongs to IT Department')\n",
    "\n",
    "elif(string[-3:].startswith ('21')):\n",
    "    print(string, 'Belongs to ECE Department')\n",
    "    \n",
    "else:\n",
    "    print(string, 'is not an SRM Student')"
   ]
  },
  {
   "cell_type": "code",
   "execution_count": 8,
   "metadata": {},
   "outputs": [
    {
     "name": "stdout",
     "output_type": "stream",
     "text": [
      "Enter your roll no: AP19110010116\n",
      "AP19110010116 Belongs to IT Department\n"
     ]
    }
   ],
   "source": [
    "string = input(\"Enter your roll no: \")\n",
    "string[-3:]\n",
    "\n",
    "if(string[-3:].startswith ('01')):\n",
    "    print(string, 'Belongs to CSE Department')\n",
    "\n",
    "elif(string[-3:].startswith ('11')):\n",
    "    print(string, 'Belongs to IT Department')\n",
    "\n",
    "elif(string[-3:].startswith ('21')):\n",
    "    print(string, 'Belongs to ECE Department')\n",
    "    \n",
    "else:\n",
    "    print(string, 'is not an SRM Student')"
   ]
  },
  {
   "cell_type": "code",
   "execution_count": 9,
   "metadata": {},
   "outputs": [
    {
     "name": "stdout",
     "output_type": "stream",
     "text": [
      "Enter your roll no: AP19110010216\n",
      "AP19110010216 Belongs to ECE Department\n"
     ]
    }
   ],
   "source": [
    "string = input(\"Enter your roll no: \")\n",
    "string[-3:]\n",
    "\n",
    "if(string[-3:].startswith ('01')):\n",
    "    print(string, 'Belongs to CSE Department')\n",
    "\n",
    "elif(string[-3:].startswith ('11')):\n",
    "    print(string, 'Belongs to IT Department')\n",
    "\n",
    "elif(string[-3:].startswith ('21')):\n",
    "    print(string, 'Belongs to ECE Department')\n",
    "    \n",
    "else:\n",
    "    print(string, 'is not an SRM Student')"
   ]
  },
  {
   "cell_type": "code",
   "execution_count": 10,
   "metadata": {},
   "outputs": [
    {
     "name": "stdout",
     "output_type": "stream",
     "text": [
      "Enter your roll no: AP19110010425\n",
      "AP19110010425 is not an SRM Student\n"
     ]
    }
   ],
   "source": [
    "string = input(\"Enter your roll no: \")\n",
    "string[-3:]\n",
    "\n",
    "if(string[-3:].startswith ('01')):\n",
    "    print(string, 'Belongs to CSE Department')\n",
    "\n",
    "elif(string[-3:].startswith ('11')):\n",
    "    print(string, 'Belongs to IT Department')\n",
    "\n",
    "elif(string[-3:].startswith ('21')):\n",
    "    print(string, 'Belongs to ECE Department')\n",
    "    \n",
    "else:\n",
    "    print(string, 'is not an SRM Student')"
   ]
  },
  {
   "cell_type": "code",
   "execution_count": null,
   "metadata": {},
   "outputs": [],
   "source": []
  }
 ],
 "metadata": {
  "kernelspec": {
   "display_name": "Python 3",
   "language": "python",
   "name": "python3"
  }
 },
 "nbformat": 4,
 "nbformat_minor": 2
}
